{
 "cells": [
  {
   "cell_type": "markdown",
   "metadata": {},
   "source": [
    "### Model Engenering Titanic\n",
    "Use 3 Model\n",
    "> Gradient Biisting(LGBM) \n",
    "\n",
    ">RandomTreee\n",
    "\n",
    ">PyTorch NN"
   ]
  },
  {
   "cell_type": "code",
   "execution_count": 22,
   "metadata": {},
   "outputs": [],
   "source": [
    "import optuna\n",
    "import pandas as pd\n",
    "import numpy as np\n",
    "import seaborn as sns\n",
    "import matplotlib.pyplot as plt\n",
    "from sklearn.model_selection import train_test_split\n",
    "from sklearn.metrics import f1_score\n",
    "from sklearn.metrics import accuracy_score\n",
    "from xgboost import XGBClassifier\n",
    "from sklearn.model_selection import cross_val_score\n",
    "from lightgbm import LGBMClassifier\n",
    "from sklearn.ensemble import RandomForestClassifier"
   ]
  },
  {
   "cell_type": "markdown",
   "metadata": {},
   "source": [
    " Download data"
   ]
  },
  {
   "cell_type": "code",
   "execution_count": 15,
   "metadata": {},
   "outputs": [
    {
     "data": {
      "text/plain": [
       "Index(['Parch_0', 'Parch_1', 'Parch_2', 'Parch_3', 'SibSp_0', 'SibSp_1',\n",
       "       'SibSp_2', 'SibSp_3', 'Fare', 'Survived', 'Pclass', 'Age', 'Sex',\n",
       "       'Embar_C', 'Embar_Q', 'Embar_S', 'Size Family'],\n",
       "      dtype='object')"
      ]
     },
     "execution_count": 15,
     "metadata": {},
     "output_type": "execute_result"
    }
   ],
   "source": [
    "data = pd.read_csv('Titanic_EDA.csv')\n",
    "data.columns"
   ]
  },
  {
   "cell_type": "markdown",
   "metadata": {},
   "source": [
    "Prepare model to Train Test part"
   ]
  },
  {
   "cell_type": "code",
   "execution_count": 16,
   "metadata": {},
   "outputs": [],
   "source": [
    "X_train,X_test,Y_train,Y_test = train_test_split(data.drop(columns = ['Survived']),data['Survived'],train_size=0.8,random_state=42)"
   ]
  },
  {
   "cell_type": "markdown",
   "metadata": {},
   "source": [
    "Let's test several Model\n"
   ]
  },
  {
   "cell_type": "code",
   "execution_count": 17,
   "metadata": {},
   "outputs": [],
   "source": [
    "def pred(model,X_test=X_test,Y_test=Y_test):\n",
    "    print(f1_score(model.predict(X_test),Y_test))\n",
    "    print(accuracy_score(model.predict(X_test),Y_test))\n",
    "\n"
   ]
  },
  {
   "cell_type": "markdown",
   "metadata": {},
   "source": [
    "Use Optuna for find the best hiperparametrs"
   ]
  },
  {
   "cell_type": "markdown",
   "metadata": {},
   "source": [
    "### LGBM"
   ]
  },
  {
   "cell_type": "code",
   "execution_count": 20,
   "metadata": {},
   "outputs": [],
   "source": [
    "def objective(trial):\n",
    "    params = {\n",
    "        'learning_rate': trial.suggest_float('learning_rate', 0.01, 0.3),\n",
    "        'n_estimators': trial.suggest_int('n_estimators', 100, 1000),\n",
    "        'num_leaves': trial.suggest_int('num_leaves', 10, 50),\n",
    "        'max_depth': trial.suggest_int('max_depth', 3, 15),\n",
    "        'min_child_samples': trial.suggest_int('min_child_samples', 5, 50)\n",
    "    }\n",
    "    model = LGBMClassifier(**params, random_state=42,verbose=-1)\n",
    "    score = cross_val_score(model, X_train, Y_train, cv=5, scoring='f1').mean()\n",
    "    \n",
    "    return score"
   ]
  },
  {
   "cell_type": "code",
   "execution_count": null,
   "metadata": {},
   "outputs": [
    {
     "name": "stderr",
     "output_type": "stream",
     "text": [
      "[I 2025-03-18 23:00:35,258] A new study created in memory with name: no-name-4f20a74a-d5e4-4f8b-8ed8-271bbd2d8a7f\n",
      "[I 2025-03-18 23:00:35,921] Trial 0 finished with value: 0.7233783113158725 and parameters: {'learning_rate': 0.22836566732654862, 'n_estimators': 834, 'num_leaves': 31, 'max_depth': 6, 'min_child_samples': 25}. Best is trial 0 with value: 0.7233783113158725.\n",
      "[I 2025-03-18 23:00:36,173] Trial 1 finished with value: 0.7506030708153807 and parameters: {'learning_rate': 0.10773962101967734, 'n_estimators': 491, 'num_leaves': 10, 'max_depth': 5, 'min_child_samples': 20}. Best is trial 1 with value: 0.7506030708153807.\n",
      "[I 2025-03-18 23:00:36,359] Trial 2 finished with value: 0.7392120063070136 and parameters: {'learning_rate': 0.01999132259489976, 'n_estimators': 341, 'num_leaves': 34, 'max_depth': 5, 'min_child_samples': 45}. Best is trial 1 with value: 0.7506030708153807.\n",
      "[I 2025-03-18 23:00:36,722] Trial 3 finished with value: 0.7451891031186995 and parameters: {'learning_rate': 0.05907884828545077, 'n_estimators': 665, 'num_leaves': 28, 'max_depth': 5, 'min_child_samples': 37}. Best is trial 1 with value: 0.7506030708153807.\n",
      "[I 2025-03-18 23:00:37,458] Trial 4 finished with value: 0.7373965133965135 and parameters: {'learning_rate': 0.19592331232323704, 'n_estimators': 914, 'num_leaves': 26, 'max_depth': 6, 'min_child_samples': 17}. Best is trial 1 with value: 0.7506030708153807.\n",
      "[I 2025-03-18 23:00:37,625] Trial 5 finished with value: 0.7448401009888491 and parameters: {'learning_rate': 0.2277047096347006, 'n_estimators': 230, 'num_leaves': 18, 'max_depth': 7, 'min_child_samples': 38}. Best is trial 1 with value: 0.7506030708153807.\n",
      "[I 2025-03-18 23:00:37,918] Trial 6 finished with value: 0.7374252914653615 and parameters: {'learning_rate': 0.15534123657219526, 'n_estimators': 256, 'num_leaves': 47, 'max_depth': 9, 'min_child_samples': 15}. Best is trial 1 with value: 0.7506030708153807.\n",
      "[I 2025-03-18 23:00:38,471] Trial 7 finished with value: 0.723049632304894 and parameters: {'learning_rate': 0.2737737085894225, 'n_estimators': 847, 'num_leaves': 42, 'max_depth': 7, 'min_child_samples': 40}. Best is trial 1 with value: 0.7506030708153807.\n",
      "[I 2025-03-18 23:00:38,601] Trial 8 finished with value: 0.7494915093314493 and parameters: {'learning_rate': 0.09447261430943844, 'n_estimators': 128, 'num_leaves': 31, 'max_depth': 11, 'min_child_samples': 39}. Best is trial 1 with value: 0.7506030708153807.\n",
      "[I 2025-03-18 23:00:38,922] Trial 9 finished with value: 0.7506317680994941 and parameters: {'learning_rate': 0.06273322301134089, 'n_estimators': 853, 'num_leaves': 18, 'max_depth': 3, 'min_child_samples': 24}. Best is trial 9 with value: 0.7506317680994941.\n",
      "[I 2025-03-18 23:00:39,594] Trial 10 finished with value: 0.7471235818671405 and parameters: {'learning_rate': 0.013308777640617553, 'n_estimators': 676, 'num_leaves': 18, 'max_depth': 15, 'min_child_samples': 5}. Best is trial 9 with value: 0.7506317680994941.\n",
      "[I 2025-03-18 23:00:39,801] Trial 11 finished with value: 0.7576567558802709 and parameters: {'learning_rate': 0.10547135049308469, 'n_estimators': 482, 'num_leaves': 11, 'max_depth': 3, 'min_child_samples': 27}. Best is trial 11 with value: 0.7576567558802709.\n",
      "[I 2025-03-18 23:00:40,026] Trial 12 finished with value: 0.7547824472762127 and parameters: {'learning_rate': 0.11216855125646791, 'n_estimators': 539, 'num_leaves': 11, 'max_depth': 3, 'min_child_samples': 29}. Best is trial 11 with value: 0.7576567558802709.\n",
      "[I 2025-03-18 23:00:40,246] Trial 13 finished with value: 0.7408399474285154 and parameters: {'learning_rate': 0.13798865338825833, 'n_estimators': 490, 'num_leaves': 14, 'max_depth': 3, 'min_child_samples': 30}. Best is trial 11 with value: 0.7576567558802709.\n",
      "[I 2025-03-18 23:00:40,436] Trial 14 finished with value: 0.7521771275581856 and parameters: {'learning_rate': 0.15592086521820778, 'n_estimators': 403, 'num_leaves': 10, 'max_depth': 3, 'min_child_samples': 29}. Best is trial 11 with value: 0.7576567558802709.\n",
      "[I 2025-03-18 23:00:40,903] Trial 15 finished with value: 0.7348757661480433 and parameters: {'learning_rate': 0.10715121401968117, 'n_estimators': 657, 'num_leaves': 23, 'max_depth': 10, 'min_child_samples': 33}. Best is trial 11 with value: 0.7576567558802709.\n",
      "[I 2025-03-18 23:00:41,258] Trial 16 finished with value: 0.7483086578983588 and parameters: {'learning_rate': 0.0539734780791977, 'n_estimators': 564, 'num_leaves': 38, 'max_depth': 14, 'min_child_samples': 50}. Best is trial 11 with value: 0.7576567558802709.\n",
      "[I 2025-03-18 23:00:41,561] Trial 17 finished with value: 0.74188274596308 and parameters: {'learning_rate': 0.18535353474507293, 'n_estimators': 352, 'num_leaves': 14, 'max_depth': 12, 'min_child_samples': 12}. Best is trial 11 with value: 0.7576567558802709.\n",
      "[I 2025-03-18 23:00:41,855] Trial 18 finished with value: 0.7428710388710389 and parameters: {'learning_rate': 0.13099281197178675, 'n_estimators': 583, 'num_leaves': 23, 'max_depth': 4, 'min_child_samples': 22}. Best is trial 11 with value: 0.7576567558802709.\n",
      "[I 2025-03-18 23:00:42,399] Trial 19 finished with value: 0.7441906318082788 and parameters: {'learning_rate': 0.0860880454646155, 'n_estimators': 741, 'num_leaves': 14, 'max_depth': 8, 'min_child_samples': 33}. Best is trial 11 with value: 0.7576567558802709.\n",
      "[I 2025-03-18 23:00:42,665] Trial 20 finished with value: 0.7305325652273489 and parameters: {'learning_rate': 0.18245562600575047, 'n_estimators': 435, 'num_leaves': 21, 'max_depth': 4, 'min_child_samples': 8}. Best is trial 11 with value: 0.7576567558802709.\n",
      "[I 2025-03-18 23:00:42,865] Trial 21 finished with value: 0.7540769459729194 and parameters: {'learning_rate': 0.15919333207655295, 'n_estimators': 383, 'num_leaves': 10, 'max_depth': 3, 'min_child_samples': 27}. Best is trial 11 with value: 0.7576567558802709.\n",
      "[I 2025-03-18 23:00:43,120] Trial 22 finished with value: 0.7411429978659092 and parameters: {'learning_rate': 0.12933552210425114, 'n_estimators': 504, 'num_leaves': 11, 'max_depth': 4, 'min_child_samples': 28}. Best is trial 11 with value: 0.7576567558802709.\n",
      "[I 2025-03-18 23:00:43,281] Trial 23 finished with value: 0.7438689635393201 and parameters: {'learning_rate': 0.07783972266733129, 'n_estimators': 312, 'num_leaves': 15, 'max_depth': 3, 'min_child_samples': 33}. Best is trial 11 with value: 0.7576567558802709.\n",
      "[I 2025-03-18 23:00:43,569] Trial 24 finished with value: 0.748997538409303 and parameters: {'learning_rate': 0.11876026486892965, 'n_estimators': 433, 'num_leaves': 10, 'max_depth': 6, 'min_child_samples': 19}. Best is trial 11 with value: 0.7576567558802709.\n",
      "[I 2025-03-18 23:00:43,866] Trial 25 finished with value: 0.7464167205343675 and parameters: {'learning_rate': 0.1693689178224512, 'n_estimators': 594, 'num_leaves': 17, 'max_depth': 4, 'min_child_samples': 26}. Best is trial 11 with value: 0.7576567558802709.\n",
      "[I 2025-03-18 23:00:44,014] Trial 26 finished with value: 0.7577749288253082 and parameters: {'learning_rate': 0.21446901178067734, 'n_estimators': 177, 'num_leaves': 21, 'max_depth': 5, 'min_child_samples': 31}. Best is trial 26 with value: 0.7577749288253082.\n",
      "[I 2025-03-18 23:00:44,148] Trial 27 finished with value: 0.7388864751024176 and parameters: {'learning_rate': 0.2883682108047685, 'n_estimators': 112, 'num_leaves': 21, 'max_depth': 8, 'min_child_samples': 32}. Best is trial 26 with value: 0.7577749288253082.\n",
      "[I 2025-03-18 23:00:44,340] Trial 28 finished with value: 0.7347091419414709 and parameters: {'learning_rate': 0.23710667435359944, 'n_estimators': 206, 'num_leaves': 25, 'max_depth': 5, 'min_child_samples': 43}. Best is trial 26 with value: 0.7577749288253082.\n",
      "[I 2025-03-18 23:00:44,986] Trial 29 finished with value: 0.726445510620268 and parameters: {'learning_rate': 0.20625792207601465, 'n_estimators': 760, 'num_leaves': 20, 'max_depth': 7, 'min_child_samples': 24}. Best is trial 26 with value: 0.7577749288253082.\n",
      "[I 2025-03-18 23:00:45,229] Trial 30 finished with value: 0.7494988305115778 and parameters: {'learning_rate': 0.2527342507071987, 'n_estimators': 266, 'num_leaves': 13, 'max_depth': 6, 'min_child_samples': 36}. Best is trial 26 with value: 0.7577749288253082.\n",
      "[I 2025-03-18 23:00:45,373] Trial 31 finished with value: 0.7577696681899446 and parameters: {'learning_rate': 0.1488949745333881, 'n_estimators': 167, 'num_leaves': 13, 'max_depth': 3, 'min_child_samples': 26}. Best is trial 26 with value: 0.7577749288253082.\n",
      "[I 2025-03-18 23:00:45,517] Trial 32 finished with value: 0.7517961503517927 and parameters: {'learning_rate': 0.1437446678847451, 'n_estimators': 170, 'num_leaves': 16, 'max_depth': 4, 'min_child_samples': 22}. Best is trial 26 with value: 0.7577749288253082.\n",
      "[I 2025-03-18 23:00:45,680] Trial 33 finished with value: 0.7500592997794765 and parameters: {'learning_rate': 0.21231115928486977, 'n_estimators': 160, 'num_leaves': 12, 'max_depth': 5, 'min_child_samples': 30}. Best is trial 26 with value: 0.7577749288253082.\n",
      "[I 2025-03-18 23:00:45,873] Trial 34 finished with value: 0.7586421395656744 and parameters: {'learning_rate': 0.1056478928280174, 'n_estimators': 309, 'num_leaves': 34, 'max_depth': 3, 'min_child_samples': 25}. Best is trial 34 with value: 0.7586421395656744.\n",
      "[I 2025-03-18 23:00:46,090] Trial 35 finished with value: 0.7509845974684731 and parameters: {'learning_rate': 0.10169670320344901, 'n_estimators': 277, 'num_leaves': 34, 'max_depth': 5, 'min_child_samples': 20}. Best is trial 34 with value: 0.7586421395656744.\n",
      "[I 2025-03-18 23:00:46,226] Trial 36 finished with value: 0.7525875710247856 and parameters: {'learning_rate': 0.04178161088237603, 'n_estimators': 197, 'num_leaves': 34, 'max_depth': 4, 'min_child_samples': 24}. Best is trial 34 with value: 0.7586421395656744.\n",
      "[I 2025-03-18 23:00:46,451] Trial 37 finished with value: 0.7477149023613722 and parameters: {'learning_rate': 0.07046709645047321, 'n_estimators': 320, 'num_leaves': 28, 'max_depth': 5, 'min_child_samples': 15}. Best is trial 34 with value: 0.7586421395656744.\n",
      "[I 2025-03-18 23:00:47,149] Trial 38 finished with value: 0.7350222023070206 and parameters: {'learning_rate': 0.12269609685988447, 'n_estimators': 969, 'num_leaves': 40, 'max_depth': 6, 'min_child_samples': 26}. Best is trial 34 with value: 0.7586421395656744.\n",
      "[I 2025-03-18 23:00:47,300] Trial 39 finished with value: 0.7175806087686422 and parameters: {'learning_rate': 0.038444385633614755, 'n_estimators': 234, 'num_leaves': 28, 'max_depth': 3, 'min_child_samples': 36}. Best is trial 34 with value: 0.7586421395656744.\n",
      "[I 2025-03-18 23:00:47,412] Trial 40 finished with value: 0.7647815326847585 and parameters: {'learning_rate': 0.17067278893093957, 'n_estimators': 104, 'num_leaves': 37, 'max_depth': 5, 'min_child_samples': 21}. Best is trial 40 with value: 0.7647815326847585.\n",
      "[I 2025-03-18 23:00:47,529] Trial 41 finished with value: 0.7528861067763749 and parameters: {'learning_rate': 0.17589868928313598, 'n_estimators': 100, 'num_leaves': 37, 'max_depth': 5, 'min_child_samples': 21}. Best is trial 40 with value: 0.7647815326847585.\n",
      "[I 2025-03-18 23:00:47,656] Trial 42 finished with value: 0.7416460814560422 and parameters: {'learning_rate': 0.19594238855860938, 'n_estimators': 157, 'num_leaves': 49, 'max_depth': 4, 'min_child_samples': 16}. Best is trial 40 with value: 0.7647815326847585.\n",
      "[I 2025-03-18 23:00:47,898] Trial 43 finished with value: 0.7356699199331698 and parameters: {'learning_rate': 0.22219162572970588, 'n_estimators': 285, 'num_leaves': 32, 'max_depth': 6, 'min_child_samples': 18}. Best is trial 40 with value: 0.7647815326847585.\n",
      "[I 2025-03-18 23:00:48,039] Trial 44 finished with value: 0.7494727367836134 and parameters: {'learning_rate': 0.1482178980514524, 'n_estimators': 199, 'num_leaves': 45, 'max_depth': 3, 'min_child_samples': 23}. Best is trial 40 with value: 0.7647815326847585.\n",
      "[I 2025-03-18 23:00:48,200] Trial 45 finished with value: 0.7441132429569488 and parameters: {'learning_rate': 0.24804119203203662, 'n_estimators': 145, 'num_leaves': 37, 'max_depth': 8, 'min_child_samples': 31}. Best is trial 40 with value: 0.7647815326847585.\n",
      "[I 2025-03-18 23:00:48,400] Trial 46 finished with value: 0.7711779448621554 and parameters: {'learning_rate': 0.09910831490174508, 'n_estimators': 224, 'num_leaves': 40, 'max_depth': 5, 'min_child_samples': 26}. Best is trial 46 with value: 0.7711779448621554.\n",
      "[I 2025-03-18 23:00:48,679] Trial 47 finished with value: 0.7492688116982504 and parameters: {'learning_rate': 0.09499853219879323, 'n_estimators': 235, 'num_leaves': 43, 'max_depth': 9, 'min_child_samples': 13}. Best is trial 46 with value: 0.7711779448621554.\n",
      "[I 2025-03-18 23:00:48,862] Trial 48 finished with value: 0.745160741228738 and parameters: {'learning_rate': 0.16065340282464938, 'n_estimators': 190, 'num_leaves': 40, 'max_depth': 7, 'min_child_samples': 25}. Best is trial 46 with value: 0.7711779448621554.\n",
      "[I 2025-03-18 23:00:48,987] Trial 49 finished with value: 0.7609775002776764 and parameters: {'learning_rate': 0.1937880949257789, 'n_estimators': 126, 'num_leaves': 36, 'max_depth': 5, 'min_child_samples': 35}. Best is trial 46 with value: 0.7711779448621554.\n"
     ]
    },
    {
     "name": "stdout",
     "output_type": "stream",
     "text": [
      "Лучшие параметры: {'learning_rate': 0.09910831490174508, 'n_estimators': 224, 'num_leaves': 40, 'max_depth': 5, 'min_child_samples': 26}\n",
      "Лучший скор: 0.7711779448621554\n"
     ]
    }
   ],
   "source": [
    "study = optuna.create_study(direction='maximize')  \n",
    "study.optimize(objective, n_trials=50)\n",
    "print(\"Лучшие параметры:\", study.best_params)\n",
    "print(\"Лучший скор:\", study.best_value)"
   ]
  },
  {
   "cell_type": "code",
   "execution_count": 9,
   "metadata": {},
   "outputs": [
    {
     "name": "stdout",
     "output_type": "stream",
     "text": [
      "0.7299270072992701\n",
      "0.7897727272727273\n"
     ]
    }
   ],
   "source": [
    "model = LGBMClassifier(**study.best_params,verbose = -1)\n",
    "model.fit(X_train,Y_train)\n",
    "pred(model)"
   ]
  },
  {
   "cell_type": "markdown",
   "metadata": {},
   "source": [
    "### Catboost"
   ]
  },
  {
   "cell_type": "code",
   "execution_count": null,
   "metadata": {},
   "outputs": [
    {
     "name": "stderr",
     "output_type": "stream",
     "text": [
      "[I 2025-03-18 23:04:55,780] A new study created in memory with name: no-name-5fff8c95-4d6c-4c1b-b5d4-c0648bb6e85c\n",
      "[I 2025-03-18 23:05:04,385] Trial 0 finished with value: 0.8196048632218845 and parameters: {'learning_rate': 0.10438428280658842, 'iterations': 974, 'depth': 7, 'l2_leaf_reg': 2.2883137917175427, 'border_count': 193, 'random_strength': 6.490367498944651}. Best is trial 0 with value: 0.8196048632218845.\n",
      "[I 2025-03-18 23:05:10,244] Trial 1 finished with value: 0.8125025329280648 and parameters: {'learning_rate': 0.13586619052220078, 'iterations': 703, 'depth': 7, 'l2_leaf_reg': 5.860623185744146, 'border_count': 141, 'random_strength': 4.174255403233249}. Best is trial 0 with value: 0.8196048632218845.\n",
      "[I 2025-03-18 23:05:15,771] Trial 2 finished with value: 0.8153292806484295 and parameters: {'learning_rate': 0.17239086596121317, 'iterations': 644, 'depth': 7, 'l2_leaf_reg': 4.113490054547803, 'border_count': 159, 'random_strength': 9.187678363066901}. Best is trial 0 with value: 0.8196048632218845.\n",
      "[I 2025-03-18 23:05:20,320] Trial 3 finished with value: 0.8082573454913881 and parameters: {'learning_rate': 0.11999017540848024, 'iterations': 572, 'depth': 8, 'l2_leaf_reg': 2.010335100486826, 'border_count': 35, 'random_strength': 9.211957944567635}. Best is trial 0 with value: 0.8196048632218845.\n",
      "[I 2025-03-18 23:05:25,695] Trial 4 finished with value: 0.8082573454913881 and parameters: {'learning_rate': 0.12694341069637197, 'iterations': 871, 'depth': 5, 'l2_leaf_reg': 4.91305284413911, 'border_count': 123, 'random_strength': 5.772682850510628}. Best is trial 0 with value: 0.8196048632218845.\n",
      "[I 2025-03-18 23:05:30,853] Trial 5 finished with value: 0.8125025329280648 and parameters: {'learning_rate': 0.123288633709955, 'iterations': 794, 'depth': 5, 'l2_leaf_reg': 8.234096177960058, 'border_count': 218, 'random_strength': 8.200153922017234}. Best is trial 0 with value: 0.8196048632218845.\n",
      "[I 2025-03-18 23:05:31,378] Trial 6 finished with value: 0.8337993920972643 and parameters: {'learning_rate': 0.18139115288960095, 'iterations': 119, 'depth': 5, 'l2_leaf_reg': 8.359762726358648, 'border_count': 253, 'random_strength': 8.753494960675082}. Best is trial 6 with value: 0.8337993920972643.\n",
      "[I 2025-03-18 23:05:37,740] Trial 7 finished with value: 0.8125025329280648 and parameters: {'learning_rate': 0.23179391127329133, 'iterations': 678, 'depth': 7, 'l2_leaf_reg': 3.200835810126153, 'border_count': 186, 'random_strength': 1.8820225620544877}. Best is trial 6 with value: 0.8337993920972643.\n",
      "[I 2025-03-18 23:05:39,721] Trial 8 finished with value: 0.8167679837892603 and parameters: {'learning_rate': 0.19653199661738976, 'iterations': 337, 'depth': 4, 'l2_leaf_reg': 8.711982683139711, 'border_count': 114, 'random_strength': 1.4160732411210855}. Best is trial 6 with value: 0.8337993920972643.\n",
      "[I 2025-03-18 23:05:43,419] Trial 9 finished with value: 0.8139311043566362 and parameters: {'learning_rate': 0.1678910845053951, 'iterations': 709, 'depth': 3, 'l2_leaf_reg': 6.357547292536182, 'border_count': 49, 'random_strength': 0.17869892086104888}. Best is trial 6 with value: 0.8337993920972643.\n",
      "[I 2025-03-18 23:05:46,443] Trial 10 finished with value: 0.8210536980749747 and parameters: {'learning_rate': 0.010506620936416133, 'iterations': 187, 'depth': 10, 'l2_leaf_reg': 9.749184547939885, 'border_count': 255, 'random_strength': 7.221952248353775}. Best is trial 6 with value: 0.8337993920972643.\n",
      "[I 2025-03-18 23:05:48,471] Trial 11 finished with value: 0.8082776089159068 and parameters: {'learning_rate': 0.010769208237982525, 'iterations': 119, 'depth': 10, 'l2_leaf_reg': 9.953783766334903, 'border_count': 251, 'random_strength': 7.274626078624793}. Best is trial 6 with value: 0.8337993920972643.\n",
      "[I 2025-03-18 23:05:52,140] Trial 12 finished with value: 0.828115501519757 and parameters: {'learning_rate': 0.29286461277343917, 'iterations': 125, 'depth': 10, 'l2_leaf_reg': 8.20715539417218, 'border_count': 249, 'random_strength': 4.2772616732174615}. Best is trial 6 with value: 0.8337993920972643.\n",
      "[I 2025-03-18 23:05:58,244] Trial 13 finished with value: 0.8040020263424518 and parameters: {'learning_rate': 0.29385564005208065, 'iterations': 317, 'depth': 9, 'l2_leaf_reg': 7.4289721845538494, 'border_count': 215, 'random_strength': 3.879523114219757}. Best is trial 6 with value: 0.8337993920972643.\n",
      "[I 2025-03-18 23:06:00,940] Trial 14 finished with value: 0.8139311043566362 and parameters: {'learning_rate': 0.2916233683071989, 'iterations': 396, 'depth': 5, 'l2_leaf_reg': 7.125493005752114, 'border_count': 229, 'random_strength': 4.495545263670507}. Best is trial 6 with value: 0.8337993920972643.\n",
      "[I 2025-03-18 23:06:02,646] Trial 15 finished with value: 0.8238804457953393 and parameters: {'learning_rate': 0.2451433028917704, 'iterations': 231, 'depth': 6, 'l2_leaf_reg': 8.604174521460331, 'border_count': 85, 'random_strength': 2.602791110564004}. Best is trial 6 with value: 0.8337993920972643.\n",
      "[I 2025-03-18 23:06:04,945] Trial 16 finished with value: 0.8210334346504558 and parameters: {'learning_rate': 0.07565932559846941, 'iterations': 434, 'depth': 3, 'l2_leaf_reg': 7.026240401513788, 'border_count': 179, 'random_strength': 5.498719069328374}. Best is trial 6 with value: 0.8337993920972643.\n",
      "[I 2025-03-18 23:06:06,545] Trial 17 finished with value: 0.8295238095238096 and parameters: {'learning_rate': 0.24713149769351753, 'iterations': 102, 'depth': 9, 'l2_leaf_reg': 8.130387103237034, 'border_count': 226, 'random_strength': 3.210281709985121}. Best is trial 6 with value: 0.8337993920972643.\n",
      "[I 2025-03-18 23:06:09,817] Trial 18 finished with value: 0.8068287740628166 and parameters: {'learning_rate': 0.2259328437148871, 'iterations': 248, 'depth': 8, 'l2_leaf_reg': 4.770001627219324, 'border_count': 202, 'random_strength': 3.0042003228113505}. Best is trial 6 with value: 0.8337993920972643.\n",
      "[I 2025-03-18 23:06:13,469] Trial 19 finished with value: 0.8196149949341438 and parameters: {'learning_rate': 0.25779687332497225, 'iterations': 467, 'depth': 6, 'l2_leaf_reg': 9.110798088951425, 'border_count': 227, 'random_strength': 9.660107088446317}. Best is trial 6 with value: 0.8337993920972643.\n",
      "[I 2025-03-18 23:06:22,457] Trial 20 finished with value: 0.8167477203647415 and parameters: {'learning_rate': 0.20106944191556822, 'iterations': 521, 'depth': 9, 'l2_leaf_reg': 7.51685242363457, 'border_count': 166, 'random_strength': 8.095723323895855}. Best is trial 6 with value: 0.8337993920972643.\n",
      "[I 2025-03-18 23:06:24,140] Trial 21 finished with value: 0.8352077001013172 and parameters: {'learning_rate': 0.2655927058204658, 'iterations': 106, 'depth': 9, 'l2_leaf_reg': 8.01500774354962, 'border_count': 243, 'random_strength': 3.2696265342516075}. Best is trial 21 with value: 0.8352077001013172.\n",
      "[I 2025-03-18 23:06:25,725] Trial 22 finished with value: 0.8210233029381966 and parameters: {'learning_rate': 0.2649490119794761, 'iterations': 104, 'depth': 9, 'l2_leaf_reg': 6.5676339531835035, 'border_count': 235, 'random_strength': 3.1056771509013363}. Best is trial 21 with value: 0.8352077001013172.\n",
      "[I 2025-03-18 23:06:28,424] Trial 23 finished with value: 0.822451874366768 and parameters: {'learning_rate': 0.1936532898952626, 'iterations': 200, 'depth': 8, 'l2_leaf_reg': 7.86342902354107, 'border_count': 209, 'random_strength': 1.3804080384431774}. Best is trial 21 with value: 0.8352077001013172.\n",
      "[I 2025-03-18 23:06:30,264] Trial 24 finished with value: 0.8210233029381966 and parameters: {'learning_rate': 0.21709925114945577, 'iterations': 297, 'depth': 4, 'l2_leaf_reg': 9.369368976506083, 'border_count': 238, 'random_strength': 4.944090902751842}. Best is trial 21 with value: 0.8352077001013172.\n",
      "[I 2025-03-18 23:06:33,145] Trial 25 finished with value: 0.8252786220871327 and parameters: {'learning_rate': 0.26579088832000275, 'iterations': 181, 'depth': 9, 'l2_leaf_reg': 5.942761933447472, 'border_count': 255, 'random_strength': 3.6190821115635696}. Best is trial 21 with value: 0.8352077001013172.\n",
      "[I 2025-03-18 23:06:36,661] Trial 26 finished with value: 0.8196048632218845 and parameters: {'learning_rate': 0.24604248936305495, 'iterations': 269, 'depth': 8, 'l2_leaf_reg': 1.1209394412262874, 'border_count': 206, 'random_strength': 2.4122419787052767}. Best is trial 21 with value: 0.8352077001013172.\n",
      "[I 2025-03-18 23:06:37,484] Trial 27 finished with value: 0.8309625126646403 and parameters: {'learning_rate': 0.27435492875583367, 'iterations': 157, 'depth': 6, 'l2_leaf_reg': 8.965317783941291, 'border_count': 235, 'random_strength': 6.139507314842241}. Best is trial 21 with value: 0.8352077001013172.\n",
      "[I 2025-03-18 23:06:40,384] Trial 28 finished with value: 0.8124924012158055 and parameters: {'learning_rate': 0.27537421852831323, 'iterations': 357, 'depth': 6, 'l2_leaf_reg': 8.993431266280485, 'border_count': 239, 'random_strength': 6.751652631089707}. Best is trial 21 with value: 0.8352077001013172.\n",
      "[I 2025-03-18 23:06:46,197] Trial 29 finished with value: 0.8295542046605876 and parameters: {'learning_rate': 0.05167398369836082, 'iterations': 968, 'depth': 4, 'l2_leaf_reg': 9.313922458819864, 'border_count': 172, 'random_strength': 6.276002729418334}. Best is trial 21 with value: 0.8352077001013172.\n",
      "[I 2025-03-18 23:06:46,917] Trial 30 finished with value: 0.8281155015197568 and parameters: {'learning_rate': 0.1510949981842258, 'iterations': 174, 'depth': 5, 'l2_leaf_reg': 6.633714962319025, 'border_count': 195, 'random_strength': 7.958086490493091}. Best is trial 21 with value: 0.8352077001013172.\n",
      "[I 2025-03-18 23:06:52,136] Trial 31 finished with value: 0.8252988855116514 and parameters: {'learning_rate': 0.07545268518553719, 'iterations': 883, 'depth': 4, 'l2_leaf_reg': 9.517837412851406, 'border_count': 173, 'random_strength': 5.998478166351009}. Best is trial 21 with value: 0.8352077001013172.\n",
      "[I 2025-03-18 23:06:57,738] Trial 32 finished with value: 0.8238703140830801 and parameters: {'learning_rate': 0.0870247338521493, 'iterations': 960, 'depth': 4, 'l2_leaf_reg': 8.816048702079884, 'border_count': 151, 'random_strength': 6.444890871794967}. Best is trial 21 with value: 0.8352077001013172.\n",
      "[I 2025-03-18 23:06:58,436] Trial 33 finished with value: 0.8295440729483282 and parameters: {'learning_rate': 0.044408084148161435, 'iterations': 160, 'depth': 6, 'l2_leaf_reg': 7.645850200653149, 'border_count': 140, 'random_strength': 5.333429368293374}. Best is trial 21 with value: 0.8352077001013172.\n",
      "[I 2025-03-18 23:07:02,541] Trial 34 finished with value: 0.825288753799392 and parameters: {'learning_rate': 0.04343036952592821, 'iterations': 599, 'depth': 5, 'l2_leaf_reg': 8.574630258581456, 'border_count': 188, 'random_strength': 8.82463856845217}. Best is trial 21 with value: 0.8352077001013172.\n",
      "[I 2025-03-18 23:07:06,573] Trial 35 finished with value: 0.8167679837892603 and parameters: {'learning_rate': 0.14901834293735938, 'iterations': 500, 'depth': 7, 'l2_leaf_reg': 9.421453210121816, 'border_count': 79, 'random_strength': 4.824399150565657}. Best is trial 21 with value: 0.8352077001013172.\n",
      "[I 2025-03-18 23:07:11,801] Trial 36 finished with value: 0.8011347517730496 and parameters: {'learning_rate': 0.176866438399871, 'iterations': 971, 'depth': 3, 'l2_leaf_reg': 9.977483222575446, 'border_count': 240, 'random_strength': 6.35713504509872}. Best is trial 21 with value: 0.8352077001013172.\n",
      "[I 2025-03-18 23:07:16,838] Trial 37 finished with value: 0.8181661600810537 and parameters: {'learning_rate': 0.09572108824388254, 'iterations': 736, 'depth': 5, 'l2_leaf_reg': 5.53234063937081, 'border_count': 219, 'random_strength': 9.952347443357262}. Best is trial 21 with value: 0.8352077001013172.\n",
      "[I 2025-03-18 23:07:21,749] Trial 38 finished with value: 0.8139311043566362 and parameters: {'learning_rate': 0.1083590270827219, 'iterations': 835, 'depth': 4, 'l2_leaf_reg': 3.956410214395655, 'border_count': 133, 'random_strength': 7.430785147632326}. Best is trial 21 with value: 0.8352077001013172.\n",
      "[I 2025-03-18 23:07:26,940] Trial 39 finished with value: 0.8125025329280648 and parameters: {'learning_rate': 0.20975509929789976, 'iterations': 617, 'depth': 7, 'l2_leaf_reg': 8.386848724265201, 'border_count': 106, 'random_strength': 8.75852751796354}. Best is trial 21 with value: 0.8352077001013172.\n",
      "[I 2025-03-18 23:07:28,768] Trial 40 finished with value: 0.822451874366768 and parameters: {'learning_rate': 0.13625217984459026, 'iterations': 216, 'depth': 6, 'l2_leaf_reg': 9.077157198074172, 'border_count': 197, 'random_strength': 5.792076037730754}. Best is trial 21 with value: 0.8352077001013172.\n",
      "[I 2025-03-18 23:07:29,420] Trial 41 finished with value: 0.829564336372847 and parameters: {'learning_rate': 0.04884378676945337, 'iterations': 142, 'depth': 6, 'l2_leaf_reg': 7.912392741148283, 'border_count': 136, 'random_strength': 5.427846040954179}. Best is trial 21 with value: 0.8352077001013172.\n",
      "[I 2025-03-18 23:07:30,074] Trial 42 finished with value: 0.830952380952381 and parameters: {'learning_rate': 0.04209311351280855, 'iterations': 157, 'depth': 5, 'l2_leaf_reg': 7.935535474159185, 'border_count': 156, 'random_strength': 7.063931659860443}. Best is trial 21 with value: 0.8352077001013172.\n",
      "[I 2025-03-18 23:07:30,698] Trial 43 finished with value: 0.8210536980749745 and parameters: {'learning_rate': 0.023665600153059435, 'iterations': 142, 'depth': 6, 'l2_leaf_reg': 7.879281139805486, 'border_count': 101, 'random_strength': 6.844504489927003}. Best is trial 21 with value: 0.8352077001013172.\n",
      "[I 2025-03-18 23:07:32,590] Trial 44 finished with value: 0.8309726443768997 and parameters: {'learning_rate': 0.06422193218730388, 'iterations': 272, 'depth': 5, 'l2_leaf_reg': 6.957739698959083, 'border_count': 153, 'random_strength': 8.665179776870787}. Best is trial 21 with value: 0.8352077001013172.\n",
      "[I 2025-03-18 23:07:34,611] Trial 45 finished with value: 0.8238601823708207 and parameters: {'learning_rate': 0.27833615018256097, 'iterations': 284, 'depth': 5, 'l2_leaf_reg': 6.977534434850313, 'border_count': 152, 'random_strength': 8.710327543871697}. Best is trial 21 with value: 0.8352077001013172.\n",
      "[I 2025-03-18 23:07:36,211] Trial 46 finished with value: 0.825288753799392 and parameters: {'learning_rate': 0.02684551357551929, 'iterations': 231, 'depth': 5, 'l2_leaf_reg': 6.087629939487459, 'border_count': 128, 'random_strength': 7.717832943288835}. Best is trial 21 with value: 0.8352077001013172.\n",
      "[I 2025-03-18 23:07:38,456] Trial 47 finished with value: 0.8224620060790272 and parameters: {'learning_rate': 0.06706546578685882, 'iterations': 364, 'depth': 5, 'l2_leaf_reg': 7.386616988422368, 'border_count': 58, 'random_strength': 9.322930039051064}. Best is trial 21 with value: 0.8352077001013172.\n",
      "[I 2025-03-18 23:07:39,567] Trial 48 finished with value: 0.8337892603850051 and parameters: {'learning_rate': 0.17698649699334382, 'iterations': 159, 'depth': 7, 'l2_leaf_reg': 8.232663552266256, 'border_count': 245, 'random_strength': 8.518721671921622}. Best is trial 21 with value: 0.8352077001013172.\n",
      "[I 2025-03-18 23:07:42,153] Trial 49 finished with value: 0.8224924012158054 and parameters: {'learning_rate': 0.16019698169900895, 'iterations': 259, 'depth': 7, 'l2_leaf_reg': 8.448894119465262, 'border_count': 245, 'random_strength': 8.341165787222868}. Best is trial 21 with value: 0.8352077001013172.\n"
     ]
    },
    {
     "name": "stdout",
     "output_type": "stream",
     "text": [
      "Лучшие параметры: {'learning_rate': 0.2655927058204658, 'iterations': 106, 'depth': 9, 'l2_leaf_reg': 8.01500774354962, 'border_count': 243, 'random_strength': 3.2696265342516075}\n",
      "Лучший f1_score: 0.8352077001013172\n"
     ]
    }
   ],
   "source": [
    "from catboost import CatBoostClassifier\n",
    "def objectiveCat(trial):\n",
    "    params = {\n",
    "        'learning_rate': trial.suggest_float('learning_rate', 0.01, 0.3),\n",
    "        'iterations': trial.suggest_int('iterations', 100, 1000),  \n",
    "        'depth': trial.suggest_int('depth', 3, 10),  \n",
    "        'l2_leaf_reg': trial.suggest_float('l2_leaf_reg', 1, 10),  \n",
    "        'border_count': trial.suggest_int('border_count', 32, 255),\n",
    "        'random_strength': trial.suggest_float('random_strength', 0.1, 10)\n",
    "    }\n",
    "    \n",
    "  \n",
    "    model = CatBoostClassifier(**params, random_seed=42, silent=True)\n",
    "    score = cross_val_score(model, X_train, Y_train, cv=5, scoring='accuracy').mean()\n",
    "    return score\n",
    "\n",
    "study = optuna.create_study(direction='maximize')\n",
    "study.optimize(objectiveCat, n_trials=50)\n",
    "\n",
    "print(\"Лучшие параметры:\", study.best_params)\n",
    "print(\"Лучший f1_score:\", study.best_value)\n",
    "\n"
   ]
  },
  {
   "cell_type": "code",
   "execution_count": 13,
   "metadata": {},
   "outputs": [
    {
     "name": "stdout",
     "output_type": "stream",
     "text": [
      "0.7384615384615385\n",
      "0.8068181818181818\n"
     ]
    }
   ],
   "source": [
    "\n",
    "best_params = study.best_params\n",
    "final_model = CatBoostClassifier(**best_params, random_seed=42, silent=True)\n",
    "final_model.fit(X_train, Y_train)\n",
    "pred(final_model)"
   ]
  },
  {
   "cell_type": "markdown",
   "metadata": {},
   "source": [
    "RandomTreeClassifer"
   ]
  },
  {
   "cell_type": "code",
   "execution_count": null,
   "metadata": {},
   "outputs": [
    {
     "name": "stderr",
     "output_type": "stream",
     "text": [
      "[I 2025-03-19 09:18:23,588] A new study created in memory with name: no-name-57d3ed0c-a628-49e9-a4c5-15afab7b3d94\n",
      "[I 2025-03-19 09:18:25,333] Trial 0 finished with value: 0.7478798371175979 and parameters: {'n_estimators': 308, 'max_depth': 7, 'min_sample_split': 6}. Best is trial 0 with value: 0.7478798371175979.\n",
      "[I 2025-03-19 09:18:26,161] Trial 1 finished with value: 0.7523201099102043 and parameters: {'n_estimators': 140, 'max_depth': 12, 'min_sample_split': 8}. Best is trial 1 with value: 0.7523201099102043.\n",
      "[I 2025-03-19 09:18:28,208] Trial 2 finished with value: 0.7566852313688128 and parameters: {'n_estimators': 354, 'max_depth': 15, 'min_sample_split': 9}. Best is trial 2 with value: 0.7566852313688128.\n",
      "[I 2025-03-19 09:18:29,877] Trial 3 finished with value: 0.733478121749651 and parameters: {'n_estimators': 317, 'max_depth': 4, 'min_sample_split': 10}. Best is trial 2 with value: 0.7566852313688128.\n",
      "[I 2025-03-19 09:18:34,749] Trial 4 finished with value: 0.7423609388939112 and parameters: {'n_estimators': 838, 'max_depth': 9, 'min_sample_split': 2}. Best is trial 2 with value: 0.7566852313688128.\n",
      "[I 2025-03-19 09:18:37,649] Trial 5 finished with value: 0.7520235723155057 and parameters: {'n_estimators': 495, 'max_depth': 26, 'min_sample_split': 8}. Best is trial 2 with value: 0.7566852313688128.\n",
      "[I 2025-03-19 09:18:41,358] Trial 6 finished with value: 0.7445094297917308 and parameters: {'n_estimators': 616, 'max_depth': 17, 'min_sample_split': 3}. Best is trial 2 with value: 0.7566852313688128.\n",
      "[I 2025-03-19 09:18:42,457] Trial 7 finished with value: 0.7508789915113263 and parameters: {'n_estimators': 186, 'max_depth': 10, 'min_sample_split': 4}. Best is trial 2 with value: 0.7566852313688128.\n",
      "[I 2025-03-19 09:18:45,168] Trial 8 finished with value: 0.7621822965045725 and parameters: {'n_estimators': 458, 'max_depth': 17, 'min_sample_split': 9}. Best is trial 8 with value: 0.7621822965045725.\n",
      "[I 2025-03-19 09:18:48,648] Trial 9 finished with value: 0.761207116336423 and parameters: {'n_estimators': 574, 'max_depth': 16, 'min_sample_split': 6}. Best is trial 8 with value: 0.7621822965045725.\n",
      "[I 2025-03-19 09:18:54,222] Trial 10 finished with value: 0.753231167679455 and parameters: {'n_estimators': 967, 'max_depth': 24, 'min_sample_split': 10}. Best is trial 8 with value: 0.7621822965045725.\n",
      "[I 2025-03-19 09:18:58,139] Trial 11 finished with value: 0.7596313587606655 and parameters: {'n_estimators': 647, 'max_depth': 20, 'min_sample_split': 6}. Best is trial 8 with value: 0.7621822965045725.\n",
      "[I 2025-03-19 09:19:01,186] Trial 12 finished with value: 0.7539004889678835 and parameters: {'n_estimators': 493, 'max_depth': 21, 'min_sample_split': 5}. Best is trial 8 with value: 0.7621822965045725.\n",
      "[I 2025-03-19 09:19:05,556] Trial 13 finished with value: 0.750703821242306 and parameters: {'n_estimators': 737, 'max_depth': 14, 'min_sample_split': 7}. Best is trial 8 with value: 0.7621822965045725.\n",
      "[I 2025-03-19 09:19:08,622] Trial 14 finished with value: 0.754895517894277 and parameters: {'n_estimators': 522, 'max_depth': 30, 'min_sample_split': 7}. Best is trial 8 with value: 0.7621822965045725.\n",
      "[I 2025-03-19 09:19:11,128] Trial 15 finished with value: 0.7597478636150343 and parameters: {'n_estimators': 409, 'max_depth': 19, 'min_sample_split': 5}. Best is trial 8 with value: 0.7621822965045725.\n",
      "[I 2025-03-19 09:19:15,423] Trial 16 finished with value: 0.7480750015711015 and parameters: {'n_estimators': 742, 'max_depth': 23, 'min_sample_split': 8}. Best is trial 8 with value: 0.7621822965045725.\n",
      "[I 2025-03-19 09:19:19,291] Trial 17 finished with value: 0.7566866391252385 and parameters: {'n_estimators': 634, 'max_depth': 17, 'min_sample_split': 5}. Best is trial 8 with value: 0.7621822965045725.\n",
      "[I 2025-03-19 09:19:21,783] Trial 18 finished with value: 0.7575786114953806 and parameters: {'n_estimators': 429, 'max_depth': 12, 'min_sample_split': 9}. Best is trial 8 with value: 0.7621822965045725.\n",
      "[I 2025-03-19 09:19:23,078] Trial 19 finished with value: 0.7585329810994094 and parameters: {'n_estimators': 208, 'max_depth': 28, 'min_sample_split': 7}. Best is trial 8 with value: 0.7621822965045725.\n",
      "[I 2025-03-19 09:19:27,576] Trial 20 finished with value: 0.7536825888798391 and parameters: {'n_estimators': 764, 'max_depth': 18, 'min_sample_split': 4}. Best is trial 8 with value: 0.7621822965045725.\n",
      "[I 2025-03-19 09:19:29,899] Trial 21 finished with value: 0.7552356853659583 and parameters: {'n_estimators': 390, 'max_depth': 20, 'min_sample_split': 5}. Best is trial 8 with value: 0.7621822965045725.\n",
      "[I 2025-03-19 09:19:32,539] Trial 22 finished with value: 0.7596313587606655 and parameters: {'n_estimators': 437, 'max_depth': 15, 'min_sample_split': 6}. Best is trial 8 with value: 0.7621822965045725.\n",
      "[I 2025-03-19 09:19:35,960] Trial 23 finished with value: 0.7521677561426204 and parameters: {'n_estimators': 569, 'max_depth': 19, 'min_sample_split': 4}. Best is trial 8 with value: 0.7621822965045725.\n",
      "[I 2025-03-19 09:19:37,519] Trial 24 finished with value: 0.7620250368188513 and parameters: {'n_estimators': 249, 'max_depth': 23, 'min_sample_split': 5}. Best is trial 8 with value: 0.7621822965045725.\n",
      "[I 2025-03-19 09:19:39,133] Trial 25 finished with value: 0.7654038787422331 and parameters: {'n_estimators': 259, 'max_depth': 23, 'min_sample_split': 6}. Best is trial 25 with value: 0.7654038787422331.\n",
      "[I 2025-03-19 09:19:39,880] Trial 26 finished with value: 0.7473905100060494 and parameters: {'n_estimators': 114, 'max_depth': 23, 'min_sample_split': 3}. Best is trial 25 with value: 0.7654038787422331.\n",
      "[I 2025-03-19 09:19:41,453] Trial 27 finished with value: 0.7607477677305943 and parameters: {'n_estimators': 255, 'max_depth': 26, 'min_sample_split': 9}. Best is trial 25 with value: 0.7654038787422331.\n",
      "[I 2025-03-19 09:19:43,092] Trial 28 finished with value: 0.7609976275640558 and parameters: {'n_estimators': 271, 'max_depth': 25, 'min_sample_split': 7}. Best is trial 25 with value: 0.7654038787422331.\n",
      "[I 2025-03-19 09:19:44,915] Trial 29 finished with value: 0.763791336748952 and parameters: {'n_estimators': 304, 'max_depth': 22, 'min_sample_split': 6}. Best is trial 25 with value: 0.7654038787422331.\n",
      "[I 2025-03-19 09:19:46,939] Trial 30 finished with value: 0.7597881469562886 and parameters: {'n_estimators': 340, 'max_depth': 21, 'min_sample_split': 6}. Best is trial 25 with value: 0.7654038787422331.\n",
      "[I 2025-03-19 09:19:48,570] Trial 31 finished with value: 0.7620250368188513 and parameters: {'n_estimators': 257, 'max_depth': 22, 'min_sample_split': 5}. Best is trial 25 with value: 0.7654038787422331.\n",
      "[I 2025-03-19 09:19:49,812] Trial 32 finished with value: 0.7598681774974841 and parameters: {'n_estimators': 197, 'max_depth': 28, 'min_sample_split': 7}. Best is trial 25 with value: 0.7654038787422331.\n",
      "[I 2025-03-19 09:19:50,866] Trial 33 finished with value: 0.7631593184672513 and parameters: {'n_estimators': 168, 'max_depth': 27, 'min_sample_split': 6}. Best is trial 25 with value: 0.7654038787422331.\n",
      "[I 2025-03-19 09:19:51,923] Trial 34 finished with value: 0.7483080039706486 and parameters: {'n_estimators': 168, 'max_depth': 28, 'min_sample_split': 8}. Best is trial 25 with value: 0.7654038787422331.\n",
      "[I 2025-03-19 09:19:53,904] Trial 35 finished with value: 0.763791336748952 and parameters: {'n_estimators': 313, 'max_depth': 30, 'min_sample_split': 6}. Best is trial 25 with value: 0.7654038787422331.\n",
      "[I 2025-03-19 09:19:54,605] Trial 36 finished with value: 0.76619249598628 and parameters: {'n_estimators': 106, 'max_depth': 30, 'min_sample_split': 6}. Best is trial 36 with value: 0.76619249598628.\n",
      "[I 2025-03-19 09:19:55,299] Trial 37 finished with value: 0.7606959474556192 and parameters: {'n_estimators': 110, 'max_depth': 30, 'min_sample_split': 7}. Best is trial 36 with value: 0.76619249598628.\n",
      "[I 2025-03-19 09:19:57,307] Trial 38 finished with value: 0.763791336748952 and parameters: {'n_estimators': 321, 'max_depth': 30, 'min_sample_split': 6}. Best is trial 36 with value: 0.76619249598628.\n",
      "[I 2025-03-19 09:19:59,682] Trial 39 finished with value: 0.7597881469562886 and parameters: {'n_estimators': 360, 'max_depth': 25, 'min_sample_split': 6}. Best is trial 36 with value: 0.76619249598628.\n",
      "[I 2025-03-19 09:20:01,536] Trial 40 finished with value: 0.7432726066922627 and parameters: {'n_estimators': 291, 'max_depth': 7, 'min_sample_split': 4}. Best is trial 36 with value: 0.76619249598628.\n",
      "[I 2025-03-19 09:20:03,529] Trial 41 finished with value: 0.763791336748952 and parameters: {'n_estimators': 324, 'max_depth': 30, 'min_sample_split': 6}. Best is trial 36 with value: 0.76619249598628.\n",
      "[I 2025-03-19 09:20:05,731] Trial 42 finished with value: 0.762212389380531 and parameters: {'n_estimators': 355, 'max_depth': 29, 'min_sample_split': 6}. Best is trial 36 with value: 0.76619249598628.\n",
      "[I 2025-03-19 09:20:07,091] Trial 43 finished with value: 0.7551297073374881 and parameters: {'n_estimators': 220, 'max_depth': 26, 'min_sample_split': 8}. Best is trial 36 with value: 0.76619249598628.\n",
      "[I 2025-03-19 09:20:07,969] Trial 44 finished with value: 0.6995961239653077 and parameters: {'n_estimators': 150, 'max_depth': 3, 'min_sample_split': 7}. Best is trial 36 with value: 0.76619249598628.\n",
      "[I 2025-03-19 09:20:09,893] Trial 45 finished with value: 0.7620250368188513 and parameters: {'n_estimators': 301, 'max_depth': 27, 'min_sample_split': 5}. Best is trial 36 with value: 0.76619249598628.\n",
      "[I 2025-03-19 09:20:12,255] Trial 46 finished with value: 0.7557477429158845 and parameters: {'n_estimators': 387, 'max_depth': 29, 'min_sample_split': 6}. Best is trial 36 with value: 0.76619249598628.\n",
      "[I 2025-03-19 09:20:13,598] Trial 47 finished with value: 0.7589768891716114 and parameters: {'n_estimators': 223, 'max_depth': 25, 'min_sample_split': 7}. Best is trial 36 with value: 0.76619249598628.\n",
      "[I 2025-03-19 09:20:14,283] Trial 48 finished with value: 0.7596573571782816 and parameters: {'n_estimators': 104, 'max_depth': 29, 'min_sample_split': 6}. Best is trial 36 with value: 0.76619249598628.\n",
      "[I 2025-03-19 09:20:17,391] Trial 49 finished with value: 0.7539004889678835 and parameters: {'n_estimators': 499, 'max_depth': 27, 'min_sample_split': 5}. Best is trial 36 with value: 0.76619249598628.\n"
     ]
    },
    {
     "name": "stdout",
     "output_type": "stream",
     "text": [
      "Лучшие параметры: {'n_estimators': 106, 'max_depth': 30, 'min_sample_split': 6}\n",
      "Лучший f1_score: 0.76619249598628\n"
     ]
    }
   ],
   "source": [
    "def objectiveRandom(trial):\n",
    "    params = {\n",
    "        \n",
    "        'n_estimators': trial.suggest_int('n_estimators', 100, 1000),\n",
    "\n",
    "        'max_depth': trial.suggest_int('max_depth', 3, 30),\n",
    "        'min_samples_split': trial.suggest_int('min_samples_split', 2, 10)\n",
    "    }\n",
    "    model = RandomForestClassifier(**params, random_state=42)\n",
    "    score = cross_val_score(model, X_train, Y_train, cv=5, scoring='f1').mean()\n",
    "    \n",
    "    return score\n",
    "    \n",
    "study = optuna.create_study(direction='maximize')\n",
    "study.optimize(objectiveRandom, n_trials=50)\n",
    "\n",
    "print(\"Лучшие параметры:\", study.best_params)\n",
    "print(\"Лучший f1_score:\", study.best_value)\n"
   ]
  },
  {
   "cell_type": "code",
   "execution_count": 31,
   "metadata": {},
   "outputs": [
    {
     "name": "stdout",
     "output_type": "stream",
     "text": [
      "0.6950354609929078\n",
      "0.7584269662921348\n"
     ]
    }
   ],
   "source": [
    "model = RandomForestClassifier(n_estimators=106,max_depth=30,min_samples_split=6,random_state=42)\n",
    "model.fit(X_train,Y_train)\n",
    "pred(model)"
   ]
  },
  {
   "cell_type": "markdown",
   "metadata": {},
   "source": [
    "### Torch Model"
   ]
  },
  {
   "cell_type": "code",
   "execution_count": 49,
   "metadata": {},
   "outputs": [
    {
     "data": {
      "text/plain": [
       "(711, 16)"
      ]
     },
     "execution_count": 49,
     "metadata": {},
     "output_type": "execute_result"
    }
   ],
   "source": [
    "import torch\n",
    "from torch import nn\n",
    "class StandartLayer(nn.Module):\n",
    "    def __init__(self,in_feat,out_feat,prob = 0.5):\n",
    "        super().__init__()\n",
    "        self.fc = nn.Sequential(\n",
    "            nn.Linear(in_features= in_feat,out_features=out_feat),\n",
    "            nn.ReLU(),\n",
    "            nn.BatchNorm1d(num_features=out_feat),\n",
    "            nn.Dropout1d(p = prob)\n",
    "        )\n",
    "    def forward(self,x):\n",
    "        return self.fc(x)\n",
    "\n",
    "class TitanicNN(nn.Module):\n",
    "    def __init__(self,layers,dropout):\n",
    "        super().__init__()\n",
    "        self.fc = nn.Sequential(\n",
    "            *[StandartLayer(layers[i-1] ,layers[i],dropout[i-1]) for i in range(1,len(layers))]\n",
    "        )\n",
    "        self.res = nn.Linear(layers[-1],1)\n",
    "        self.sig = nn.Sigmoid()\n",
    "    def forward(self,x):\n",
    "        x = self.fc(x)\n",
    "        x = self.res(x)\n",
    "        return self.sig(x)\n",
    "\n",
    "X_train.shape"
   ]
  },
  {
   "cell_type": "code",
   "execution_count": null,
   "metadata": {},
   "outputs": [
    {
     "name": "stdout",
     "output_type": "stream",
     "text": [
      "Epoch 1/50, Loss: 0.7388, Accuracy: 58.37%\n",
      "Epoch 2/50, Loss: 0.6667, Accuracy: 62.17%\n",
      "Epoch 3/50, Loss: 0.6773, Accuracy: 61.04%\n",
      "Epoch 4/50, Loss: 0.6736, Accuracy: 62.45%\n",
      "Epoch 5/50, Loss: 0.6628, Accuracy: 62.45%\n",
      "Epoch 6/50, Loss: 0.6735, Accuracy: 61.74%\n",
      "Epoch 7/50, Loss: 0.6508, Accuracy: 62.03%\n",
      "Epoch 8/50, Loss: 0.6833, Accuracy: 60.76%\n",
      "Epoch 9/50, Loss: 0.6661, Accuracy: 62.31%\n",
      "Epoch 10/50, Loss: 0.6486, Accuracy: 64.42%\n",
      "Epoch 11/50, Loss: 0.6337, Accuracy: 66.10%\n",
      "Epoch 12/50, Loss: 0.6620, Accuracy: 63.71%\n",
      "Epoch 13/50, Loss: 0.6310, Accuracy: 65.96%\n",
      "Epoch 14/50, Loss: 0.6800, Accuracy: 59.49%\n",
      "Epoch 15/50, Loss: 0.6663, Accuracy: 62.17%\n",
      "Epoch 16/50, Loss: 0.6531, Accuracy: 63.85%\n",
      "Epoch 17/50, Loss: 0.6479, Accuracy: 65.54%\n",
      "Epoch 18/50, Loss: 0.6278, Accuracy: 63.01%\n",
      "Epoch 19/50, Loss: 0.6428, Accuracy: 63.43%\n",
      "Epoch 20/50, Loss: 0.6072, Accuracy: 66.81%\n",
      "Epoch 21/50, Loss: 0.6024, Accuracy: 68.50%\n",
      "Epoch 22/50, Loss: 0.5954, Accuracy: 69.48%\n",
      "Epoch 23/50, Loss: 0.6189, Accuracy: 67.65%\n",
      "Epoch 24/50, Loss: 0.5986, Accuracy: 66.81%\n",
      "Epoch 25/50, Loss: 0.6012, Accuracy: 66.24%\n",
      "Epoch 26/50, Loss: 0.6095, Accuracy: 66.81%\n",
      "Epoch 27/50, Loss: 0.6102, Accuracy: 66.53%\n",
      "Epoch 28/50, Loss: 0.6022, Accuracy: 67.51%\n",
      "Epoch 29/50, Loss: 0.5953, Accuracy: 66.81%\n",
      "Epoch 30/50, Loss: 0.6147, Accuracy: 65.54%\n",
      "Epoch 31/50, Loss: 0.6294, Accuracy: 63.29%\n",
      "Epoch 32/50, Loss: 0.6187, Accuracy: 66.24%\n",
      "Epoch 33/50, Loss: 0.5923, Accuracy: 68.07%\n",
      "Epoch 34/50, Loss: 0.6004, Accuracy: 67.93%\n",
      "Epoch 35/50, Loss: 0.6149, Accuracy: 67.37%\n",
      "Epoch 36/50, Loss: 0.6019, Accuracy: 68.50%\n",
      "Epoch 37/50, Loss: 0.6361, Accuracy: 67.51%\n",
      "Epoch 38/50, Loss: 0.6156, Accuracy: 66.24%\n",
      "Epoch 39/50, Loss: 0.6402, Accuracy: 66.24%\n",
      "Epoch 40/50, Loss: 0.6410, Accuracy: 61.46%\n",
      "Epoch 41/50, Loss: 0.6009, Accuracy: 66.67%\n",
      "Epoch 42/50, Loss: 0.6518, Accuracy: 65.82%\n",
      "Epoch 43/50, Loss: 0.6276, Accuracy: 64.56%\n",
      "Epoch 44/50, Loss: 0.6042, Accuracy: 67.37%\n",
      "Epoch 45/50, Loss: 0.6106, Accuracy: 67.93%\n",
      "Epoch 46/50, Loss: 0.6155, Accuracy: 66.67%\n",
      "Epoch 47/50, Loss: 0.6344, Accuracy: 66.39%\n",
      "Epoch 48/50, Loss: 0.6108, Accuracy: 66.53%\n",
      "Epoch 49/50, Loss: 0.6142, Accuracy: 66.39%\n",
      "Epoch 50/50, Loss: 0.6095, Accuracy: 66.95%\n",
      "Обучение завершено!\n"
     ]
    }
   ],
   "source": [
    "import torch\n",
    "from torch import nn\n",
    "from torch.utils.data import DataLoader, TensorDataset\n",
    "import torch.optim as optim\n",
    "\n",
    "\n",
    "x_train = torch.tensor(X_train.values,dtype = torch.float32)  \n",
    "y_train = torch.tensor(Y_train.values,dtype= torch.float32)  \n",
    "\n",
    "dataset = TensorDataset(x_train, y_train)\n",
    "train_loader = DataLoader(dataset, batch_size=32, shuffle=True)\n",
    "\n",
    "input_size = 17\n",
    "layers = [16,64, 32, 16]\n",
    "dropout = [0.5, 0.3, 0.1]\n",
    "model = TitanicNN( layers, dropout)\n",
    "\n",
    "\n",
    "optimizer = optim.Adam(model.parameters(), lr=0.1)\n",
    "criterion = nn.BCELoss()  \n",
    "\n",
    "\n",
    "num_epochs = 50\n",
    "device = torch.device(\"cuda\" if torch.cuda.is_available() else \"cpu\")\n",
    "model.to(device)\n",
    "\n",
    "for epoch in range(num_epochs):\n",
    "    model.train() \n",
    "    running_loss = 0.0\n",
    "    correct = 0\n",
    "    total = 0\n",
    "    \n",
    "    for inputs, labels in train_loader:\n",
    "        inputs, labels = inputs.to(device), labels.to(device)\n",
    "        optimizer.zero_grad()\n",
    "        outputs = model(inputs)\n",
    "        loss = criterion(outputs.squeeze(), labels)  \n",
    "        loss.backward()\n",
    "        optimizer.step()\n",
    "    \n",
    "        running_loss += loss.item()\n",
    "        predicted = (outputs.squeeze() >= 0.5).float() \n",
    "        total += labels.size(0)\n",
    "        correct += (predicted == labels).sum().item()\n",
    "    \n",
    "    epoch_loss = running_loss / len(train_loader)\n",
    "    epoch_acc = 100 * correct / total\n",
    "    print(f\"Epoch {epoch+1}/{num_epochs}, Loss: {epoch_loss:.4f}, Accuracy: {epoch_acc:.2f}%\")\n",
    "\n",
    "print(\"Обучение завершено!\")"
   ]
  }
 ],
 "metadata": {
  "kernelspec": {
   "display_name": "Python 3",
   "language": "python",
   "name": "python3"
  },
  "language_info": {
   "codemirror_mode": {
    "name": "ipython",
    "version": 3
   },
   "file_extension": ".py",
   "mimetype": "text/x-python",
   "name": "python",
   "nbconvert_exporter": "python",
   "pygments_lexer": "ipython3",
   "version": "3.10.5"
  }
 },
 "nbformat": 4,
 "nbformat_minor": 2
}
